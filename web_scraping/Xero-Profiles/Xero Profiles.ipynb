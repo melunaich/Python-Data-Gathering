{
 "cells": [
  {
   "cell_type": "markdown",
   "metadata": {},
   "source": [
    "# Web-Scraping from Xero for profile details\n",
    "\n",
    "Here, we go through the [search result pages](https://www.xero.com/uk/advisors/find-advisors/?type=advisors&tag[]=xero:advisor-directory/industries-served/repairs-and-personal-services&orderBy=ADVISOR_RELEVANCE&sort=ASC&pageNumber=1) on Xero.com where our filter criteria is to select advisors from UK for 'Repair and Personal Services'. From the search results, we extract certain details (described below) into a pandas dataframe and also write into a csv file.\n",
    "\n",
    "\n",
    "Example Profile URL:\n",
    "https://www.xero.com/uk/advisors/accountant/mha-macintyre-hudson-db7b338a4f1d/\n",
    "\n",
    "Required fields:\n",
    "- Name (e.g. MHA MacIntyre Hudson)\n",
    "- Type (e.g. Accountant)\n",
    "- Address (e.g. 1 The Forum, Minerva Business Park, Lynchwood, Peterborough, England)\n",
    "- About us text\n",
    "- Website\n",
    "- Phone number\n",
    "- Facebook address (if available)\n",
    "- Twitter address (if available)\n",
    "- Linkedin address (if available)\n",
    "\n",
    "_Through out the worksheet, I have commented some code lines to avoid the workbook from getting too long while viewing in github (due to huge html listings). These can be uncommented and run if needed._"
   ]
  },
  {
   "cell_type": "code",
   "execution_count": 1,
   "metadata": {},
   "outputs": [],
   "source": [
    "# import necessary libraries\n",
    "\n",
    "import pandas as pd\n",
    "import requests\n",
    "import numpy as np\n",
    "from bs4 import BeautifulSoup\n",
    "import re"
   ]
  },
  {
   "cell_type": "markdown",
   "metadata": {},
   "source": [
    "### Exploration and Preparation\n",
    "\n",
    "**Let's have a look at the search page html and see what we find.**"
   ]
  },
  {
   "cell_type": "code",
   "execution_count": 2,
   "metadata": {},
   "outputs": [],
   "source": [
    "link = 'https://www.xero.com/uk/advisors/find-advisors/?type=advisors&tag[]=xero:advisor-directory/industries-served/repairs-and-personal-services&orderBy=ADVISOR_RELEVANCE&sort=ASC&pageNumber=1'\n",
    "\n",
    "req = requests.get(link)\n",
    "soup = BeautifulSoup(req.content)"
   ]
  },
  {
   "cell_type": "code",
   "execution_count": 3,
   "metadata": {},
   "outputs": [],
   "source": [
    "# soup"
   ]
  },
  {
   "cell_type": "code",
   "execution_count": 4,
   "metadata": {},
   "outputs": [
    {
     "data": {
      "text/plain": [
       "[<a class=\"btn btn-primary-alt\" href=\"https://www.xero.com/uk/advisors/Accountant/johnston-carmichael-11033f669adb/\">View Profile</a>,\n",
       " <a class=\"btn btn-primary-alt\" href=\"https://www.xero.com/uk/advisors/Accountant/pkf-francis-clark-af93f9b08c7f/\">View Profile</a>,\n",
       " <a class=\"btn btn-primary-alt\" href=\"https://www.xero.com/uk/advisors/Accountant/armstrong-watson-156b74095297/\">View Profile</a>,\n",
       " <a class=\"btn btn-primary-alt\" href=\"https://www.xero.com/uk/advisors/Accountant/armstrong-watson-northallerton-3bfd8b4ba1af/\">View Profile</a>,\n",
       " <a class=\"btn btn-primary-alt\" href=\"https://www.xero.com/uk/advisors/Accountant/tc-group-5a2406a09705/\">View Profile</a>,\n",
       " <a class=\"btn btn-primary-alt\" href=\"https://www.xero.com/uk/advisors/Accountant/mha-macintyre-hudson-db7b338a4f1d/\">View Profile</a>,\n",
       " <a class=\"btn btn-primary-alt\" href=\"https://www.xero.com/uk/advisors/Accountant/armstrong-watson-dcde9e76086a/\">View Profile</a>,\n",
       " <a class=\"btn btn-primary-alt\" href=\"https://www.xero.com/uk/advisors/Accountant/bdo-llp-f9cfe0847a5c/\">View Profile</a>,\n",
       " <a class=\"btn btn-primary-alt\" href=\"https://www.xero.com/uk/advisors/Accountant/silver-levene-llp-54755ecbb05c/\">View Profile</a>,\n",
       " <a class=\"btn btn-primary-alt\" href=\"https://www.xero.com/uk/advisors/Accountant/kreston-reeves-llp-0dc0404b7c45/\">View Profile</a>]"
      ]
     },
     "execution_count": 4,
     "metadata": {},
     "output_type": "execute_result"
    }
   ],
   "source": [
    "#soup.find_all('div', class_ = \"advisors-result-card-view-profile\")\n",
    "\n",
    "soup.find_all('a', class_ = re.compile('btn-primary-alt'))"
   ]
  },
  {
   "cell_type": "markdown",
   "metadata": {},
   "source": [
    "**Let's extract the profile links.**"
   ]
  },
  {
   "cell_type": "code",
   "execution_count": 5,
   "metadata": {},
   "outputs": [
    {
     "data": {
      "text/plain": [
       "['https://www.xero.com/uk/advisors/Accountant/johnston-carmichael-11033f669adb/',\n",
       " 'https://www.xero.com/uk/advisors/Accountant/pkf-francis-clark-af93f9b08c7f/',\n",
       " 'https://www.xero.com/uk/advisors/Accountant/armstrong-watson-156b74095297/',\n",
       " 'https://www.xero.com/uk/advisors/Accountant/armstrong-watson-northallerton-3bfd8b4ba1af/',\n",
       " 'https://www.xero.com/uk/advisors/Accountant/tc-group-5a2406a09705/',\n",
       " 'https://www.xero.com/uk/advisors/Accountant/mha-macintyre-hudson-db7b338a4f1d/',\n",
       " 'https://www.xero.com/uk/advisors/Accountant/armstrong-watson-dcde9e76086a/',\n",
       " 'https://www.xero.com/uk/advisors/Accountant/bdo-llp-f9cfe0847a5c/',\n",
       " 'https://www.xero.com/uk/advisors/Accountant/silver-levene-llp-54755ecbb05c/',\n",
       " 'https://www.xero.com/uk/advisors/Accountant/kreston-reeves-llp-0dc0404b7c45/']"
      ]
     },
     "execution_count": 5,
     "metadata": {},
     "output_type": "execute_result"
    }
   ],
   "source": [
    "profile_links = []\n",
    "for text in soup.find_all('a', class_ = re.compile('btn-primary-alt')):\n",
    "    profile_links.append(text.get('href'))\n",
    "profile_links"
   ]
  },
  {
   "cell_type": "markdown",
   "metadata": {},
   "source": [
    "> **There are 10 profiles listed in one page. If we find out the total number of profiles in the search result, we will know how many pages we need to read.**\n",
    "\n",
    "**Let's see the total number of profiles in search result.**"
   ]
  },
  {
   "cell_type": "code",
   "execution_count": 6,
   "metadata": {},
   "outputs": [
    {
     "data": {
      "text/plain": [
       "953"
      ]
     },
     "execution_count": 6,
     "metadata": {},
     "output_type": "execute_result"
    }
   ],
   "source": [
    "# get total number of profiles in 'results'\n",
    "for text in soup.find_all('div', class_ = re.compile('globalsearch-results')):\n",
    "    results = text.get('data-global-search-total')\n",
    "\n",
    "results = int(results)\n",
    "results"
   ]
  },
  {
   "cell_type": "markdown",
   "metadata": {},
   "source": [
    "**Now that we got the number of profiles, let's calculate how many pages we need to read in order to get all profiles.**"
   ]
  },
  {
   "cell_type": "code",
   "execution_count": 7,
   "metadata": {},
   "outputs": [
    {
     "data": {
      "text/plain": [
       "96"
      ]
     },
     "execution_count": 7,
     "metadata": {},
     "output_type": "execute_result"
    }
   ],
   "source": [
    "# Each page has 10 profiles. To calculate total number of pages, we will divide total number of profiles by 10\n",
    "\n",
    "# If the total number of profiles are exactly divisible by 10, we will take the division result as it is.\n",
    "# If the total number of profiles are not exactly divisible by 10, we will add 1 to the division result.\n",
    "\n",
    "\n",
    "if results % 10 == 0:\n",
    "    page_num = results / 10\n",
    "else:\n",
    "    page_num = int(results / 10) + 1\n",
    "\n",
    "page_num"
   ]
  },
  {
   "cell_type": "markdown",
   "metadata": {},
   "source": [
    "**Make a list that contains all the search page links**"
   ]
  },
  {
   "cell_type": "code",
   "execution_count": 8,
   "metadata": {},
   "outputs": [],
   "source": [
    "# The below link does not contain the page number at the end. We will be adding it through computation.\n",
    "link_ = 'https://www.xero.com/uk/advisors/find-advisors/?type=advisors&tag[]=xero:advisor-directory/industries-served/repairs-and-personal-services&orderBy=ADVISOR_RELEVANCE&sort=ASC&pageNumber='\n",
    "\n",
    "# create empty list\n",
    "search_pages = []\n",
    "\n",
    "# add page numbers to the link and append in the list\n",
    "for i in range(page_num):\n",
    "    link = link_ + str(i+1)\n",
    "    search_pages.append(link)"
   ]
  },
  {
   "cell_type": "code",
   "execution_count": 9,
   "metadata": {},
   "outputs": [],
   "source": [
    "# search_pages"
   ]
  },
  {
   "cell_type": "markdown",
   "metadata": {},
   "source": [
    "**Now that we have the search-page links, we will go through them one by one and extract the links for all the profiles that are listed.**"
   ]
  },
  {
   "cell_type": "code",
   "execution_count": 10,
   "metadata": {},
   "outputs": [
    {
     "name": "stdout",
     "output_type": "stream",
     "text": [
      "10 search pages done\n",
      "20 search pages done\n",
      "30 search pages done\n",
      "40 search pages done\n",
      "50 search pages done\n",
      "60 search pages done\n",
      "70 search pages done\n",
      "80 search pages done\n",
      "90 search pages done\n"
     ]
    }
   ],
   "source": [
    "profile_links = []      # create empty list\n",
    "i = 0                   # counter that we will be using in the loop\n",
    "\n",
    "\n",
    "# go through search page links and extract profile links.\n",
    "for page in search_pages:\n",
    "    req = requests.get(page)\n",
    "    soup = BeautifulSoup(req.content)\n",
    "    \n",
    "    for text in soup.find_all('a', class_ = re.compile('btn-primary-alt')):\n",
    "        profile_links.append(text.get('href'))\n",
    "    \n",
    "    i += 1\n",
    "    if i % 10 == 0:\n",
    "        print(str(i) + ' search pages done')"
   ]
  },
  {
   "cell_type": "markdown",
   "metadata": {},
   "source": [
    "### Read Profiles and extract required fields\n",
    "\n",
    "We will create a list of dictionaries (for each record). This list will then be used to build a pandas dataframe."
   ]
  },
  {
   "cell_type": "code",
   "execution_count": 12,
   "metadata": {},
   "outputs": [
    {
     "name": "stdout",
     "output_type": "stream",
     "text": [
      "20 profiles retreived\n",
      "40 profiles retreived\n",
      "60 profiles retreived\n",
      "80 profiles retreived\n",
      "100 profiles retreived\n",
      "120 profiles retreived\n",
      "140 profiles retreived\n",
      "160 profiles retreived\n",
      "180 profiles retreived\n",
      "200 profiles retreived\n",
      "220 profiles retreived\n",
      "240 profiles retreived\n",
      "260 profiles retreived\n",
      "280 profiles retreived\n",
      "300 profiles retreived\n",
      "320 profiles retreived\n",
      "340 profiles retreived\n",
      "360 profiles retreived\n",
      "380 profiles retreived\n",
      "400 profiles retreived\n",
      "420 profiles retreived\n",
      "440 profiles retreived\n",
      "460 profiles retreived\n",
      "480 profiles retreived\n",
      "500 profiles retreived\n",
      "520 profiles retreived\n",
      "540 profiles retreived\n",
      "560 profiles retreived\n",
      "580 profiles retreived\n",
      "600 profiles retreived\n",
      "620 profiles retreived\n",
      "640 profiles retreived\n",
      "660 profiles retreived\n",
      "680 profiles retreived\n",
      "700 profiles retreived\n",
      "720 profiles retreived\n",
      "740 profiles retreived\n",
      "760 profiles retreived\n",
      "780 profiles retreived\n",
      "800 profiles retreived\n",
      "820 profiles retreived\n",
      "840 profiles retreived\n",
      "860 profiles retreived\n",
      "880 profiles retreived\n",
      "900 profiles retreived\n",
      "920 profiles retreived\n",
      "940 profiles retreived\n"
     ]
    }
   ],
   "source": [
    "rows = []          # create empty list\n",
    "i = 0              # counter\n",
    "\n",
    "\n",
    "# Go through the profile links one by one and extract fields.\n",
    "\n",
    "for link in profile_links:\n",
    "    req = requests.get(link)\n",
    "    soup = BeautifulSoup(req.content)\n",
    "    \n",
    "    # initialize fields\n",
    "    name = np.nan\n",
    "    p_type = np.nan\n",
    "    address = np.nan\n",
    "    website = np.nan\n",
    "    phone = np.nan\n",
    "    about_us = np.nan\n",
    "    facebook, twitter, linkedin = np.nan, np.nan, np.nan\n",
    "\n",
    "    # get name\n",
    "    if soup.find_all('h1'):\n",
    "        name = soup.find_all('h1')[0].contents[0]\n",
    "    \n",
    "    # get profile type - p_type\n",
    "    if soup.find_all('p', class_ = \"advisors-profile-hero-detailed-info-sub national\"):\n",
    "        p_type = soup.find_all('p', class_ = \"advisors-profile-hero-detailed-info-sub national\")[0].contents[0].split()[0]\n",
    "    \n",
    "    # get address\n",
    "    try:\n",
    "        address = soup.find_all('p', class_ = \"advisors-profile-hero-detailed-info-sub national\")[0].contents[2].split('\\n')[1].lstrip()\n",
    "    except:\n",
    "        address = np.nan\n",
    "    \n",
    "    # get website address\n",
    "    if soup.find_all(class_ = re.compile('advisors-profile-hero-detailed-contact-website')):\n",
    "        for text in soup.find_all(class_ = re.compile('advisors-profile-hero-detailed-contact-website')):\n",
    "            website = text.get('href')\n",
    "    \n",
    "    # get phone number\n",
    "    if soup.find_all(class_ = re.compile('advisors-profile-hero-detailed-contact-phone')):\n",
    "        for text in soup.find_all(class_ = re.compile('advisors-profile-hero-detailed-contact-phone')):\n",
    "            phone = text.get('data-phone')\n",
    "    \n",
    "    # extract 'about us' text\n",
    "    if soup.find_all('div', class_ = \"advisor-profile-practice-desc\"):\n",
    "        about_us = soup.find_all('div', class_ = \"advisor-profile-practice-desc\")[0].find('p').contents[0]\n",
    "    \n",
    "    # get social profile links\n",
    "    for text in soup.find_all('li', class_ = \"advisor-profile-practice-social-item\"):\n",
    "        if text.find_all('a', href = re.compile('twitter')):\n",
    "            for tw in text.find_all('a', href = re.compile('twitter')):\n",
    "                twitter = tw.get('href')\n",
    "    \n",
    "        if text.find_all('a', href = re.compile('linkedin')):\n",
    "            for tw in text.find_all('a', href = re.compile('linkedin')):\n",
    "                linkedin = tw.get('href')\n",
    "        \n",
    "        if text.find_all('a', href = re.compile('facebook')):\n",
    "            for tw in text.find_all('a', href = re.compile('facebook')):\n",
    "                facebook = tw.get('href')\n",
    "\n",
    "    # append profile details in the list\n",
    "    rows.append({'name' : name,\n",
    "                 'type' : p_type,\n",
    "                 'address' : address,\n",
    "                 'website' : website,\n",
    "                 'phone' : phone,\n",
    "                 'about_us' : about_us,\n",
    "                 'Twitter' : twitter,\n",
    "                 'LinkedIn' : linkedin,\n",
    "                 'Facebook' : facebook\n",
    "                })\n",
    "    \n",
    "    # check to monitor the progress\n",
    "    i += 1\n",
    "    if i%20 == 0:\n",
    "        print(str(i) + ' profiles retreived')\n"
   ]
  },
  {
   "cell_type": "markdown",
   "metadata": {},
   "source": [
    "**Create dataframe from the list**"
   ]
  },
  {
   "cell_type": "code",
   "execution_count": 13,
   "metadata": {},
   "outputs": [
    {
     "name": "stdout",
     "output_type": "stream",
     "text": [
      "(953, 9)\n"
     ]
    },
    {
     "data": {
      "text/html": [
       "<div>\n",
       "<style scoped>\n",
       "    .dataframe tbody tr th:only-of-type {\n",
       "        vertical-align: middle;\n",
       "    }\n",
       "\n",
       "    .dataframe tbody tr th {\n",
       "        vertical-align: top;\n",
       "    }\n",
       "\n",
       "    .dataframe thead th {\n",
       "        text-align: right;\n",
       "    }\n",
       "</style>\n",
       "<table border=\"1\" class=\"dataframe\">\n",
       "  <thead>\n",
       "    <tr style=\"text-align: right;\">\n",
       "      <th></th>\n",
       "      <th>name</th>\n",
       "      <th>type</th>\n",
       "      <th>address</th>\n",
       "      <th>website</th>\n",
       "      <th>phone</th>\n",
       "      <th>about_us</th>\n",
       "      <th>Twitter</th>\n",
       "      <th>LinkedIn</th>\n",
       "      <th>Facebook</th>\n",
       "    </tr>\n",
       "  </thead>\n",
       "  <tbody>\n",
       "    <tr>\n",
       "      <th>736</th>\n",
       "      <td>Riverview Portfolio Ltd</td>\n",
       "      <td>Accountant</td>\n",
       "      <td>1 Market Hill, Calne, England</td>\n",
       "      <td>http://www.riverviewportfolio.co.uk</td>\n",
       "      <td>+44 1249 816 810</td>\n",
       "      <td>Accountants and tax advisor’s serving the Wilt...</td>\n",
       "      <td>NaN</td>\n",
       "      <td>NaN</td>\n",
       "      <td>NaN</td>\n",
       "    </tr>\n",
       "    <tr>\n",
       "      <th>163</th>\n",
       "      <td>Wise &amp; Co</td>\n",
       "      <td>Accountant</td>\n",
       "      <td>Union Road, Wey Court West, Farnham, England</td>\n",
       "      <td>http://www.wiseandco.co.uk/what-we-do/online-a...</td>\n",
       "      <td>+44 01252 711244</td>\n",
       "      <td>Our dedicated cloud accounting team is on hand...</td>\n",
       "      <td>https://www.twitter.com/WiseandCo</td>\n",
       "      <td>https://www.linkedin.com/company/wise-&amp;-co-cha...</td>\n",
       "      <td>NaN</td>\n",
       "    </tr>\n",
       "    <tr>\n",
       "      <th>888</th>\n",
       "      <td>Pebbles Bookkeeping</td>\n",
       "      <td>Bookkeeper</td>\n",
       "      <td>Brandon House, Potterne Road , Devizes, England</td>\n",
       "      <td>NaN</td>\n",
       "      <td>+44 07759802552</td>\n",
       "      <td>My current client base is varied, from small ...</td>\n",
       "      <td>NaN</td>\n",
       "      <td>NaN</td>\n",
       "      <td>NaN</td>\n",
       "    </tr>\n",
       "    <tr>\n",
       "      <th>732</th>\n",
       "      <td>Harrison and Jones Accountancy</td>\n",
       "      <td>Accountant</td>\n",
       "      <td>Fauld Lane, Unit 152, Tutbury, England</td>\n",
       "      <td>http://www.harrisonjonesaccountancy.com</td>\n",
       "      <td>+44 (0)1283240025</td>\n",
       "      <td>Harrison and Jones Accountancy is a leading fi...</td>\n",
       "      <td>NaN</td>\n",
       "      <td>NaN</td>\n",
       "      <td>NaN</td>\n",
       "    </tr>\n",
       "  </tbody>\n",
       "</table>\n",
       "</div>"
      ],
      "text/plain": [
       "                               name        type  \\\n",
       "736         Riverview Portfolio Ltd  Accountant   \n",
       "163                       Wise & Co  Accountant   \n",
       "888             Pebbles Bookkeeping  Bookkeeper   \n",
       "732  Harrison and Jones Accountancy  Accountant   \n",
       "\n",
       "                                             address  \\\n",
       "736                    1 Market Hill, Calne, England   \n",
       "163     Union Road, Wey Court West, Farnham, England   \n",
       "888  Brandon House, Potterne Road , Devizes, England   \n",
       "732           Fauld Lane, Unit 152, Tutbury, England   \n",
       "\n",
       "                                               website              phone  \\\n",
       "736                http://www.riverviewportfolio.co.uk   +44 1249 816 810   \n",
       "163  http://www.wiseandco.co.uk/what-we-do/online-a...   +44 01252 711244   \n",
       "888                                                NaN    +44 07759802552   \n",
       "732            http://www.harrisonjonesaccountancy.com  +44 (0)1283240025   \n",
       "\n",
       "                                              about_us  \\\n",
       "736  Accountants and tax advisor’s serving the Wilt...   \n",
       "163  Our dedicated cloud accounting team is on hand...   \n",
       "888   My current client base is varied, from small ...   \n",
       "732  Harrison and Jones Accountancy is a leading fi...   \n",
       "\n",
       "                               Twitter  \\\n",
       "736                                NaN   \n",
       "163  https://www.twitter.com/WiseandCo   \n",
       "888                                NaN   \n",
       "732                                NaN   \n",
       "\n",
       "                                              LinkedIn Facebook  \n",
       "736                                                NaN      NaN  \n",
       "163  https://www.linkedin.com/company/wise-&-co-cha...      NaN  \n",
       "888                                                NaN      NaN  \n",
       "732                                                NaN      NaN  "
      ]
     },
     "execution_count": 13,
     "metadata": {},
     "output_type": "execute_result"
    }
   ],
   "source": [
    "profile_df = pd.DataFrame(rows)\n",
    "\n",
    "print(profile_df.shape)\n",
    "profile_df.sample(4)"
   ]
  },
  {
   "cell_type": "markdown",
   "metadata": {},
   "source": [
    "**Check duplicates**"
   ]
  },
  {
   "cell_type": "code",
   "execution_count": 14,
   "metadata": {},
   "outputs": [
    {
     "data": {
      "text/html": [
       "<div>\n",
       "<style scoped>\n",
       "    .dataframe tbody tr th:only-of-type {\n",
       "        vertical-align: middle;\n",
       "    }\n",
       "\n",
       "    .dataframe tbody tr th {\n",
       "        vertical-align: top;\n",
       "    }\n",
       "\n",
       "    .dataframe thead th {\n",
       "        text-align: right;\n",
       "    }\n",
       "</style>\n",
       "<table border=\"1\" class=\"dataframe\">\n",
       "  <thead>\n",
       "    <tr style=\"text-align: right;\">\n",
       "      <th></th>\n",
       "      <th>name</th>\n",
       "      <th>type</th>\n",
       "      <th>address</th>\n",
       "      <th>website</th>\n",
       "      <th>phone</th>\n",
       "      <th>about_us</th>\n",
       "      <th>Twitter</th>\n",
       "      <th>LinkedIn</th>\n",
       "      <th>Facebook</th>\n",
       "    </tr>\n",
       "  </thead>\n",
       "  <tbody>\n",
       "  </tbody>\n",
       "</table>\n",
       "</div>"
      ],
      "text/plain": [
       "Empty DataFrame\n",
       "Columns: [name, type, address, website, phone, about_us, Twitter, LinkedIn, Facebook]\n",
       "Index: []"
      ]
     },
     "execution_count": 14,
     "metadata": {},
     "output_type": "execute_result"
    }
   ],
   "source": [
    "profile_df[profile_df.duplicated()]"
   ]
  },
  {
   "cell_type": "code",
   "execution_count": 15,
   "metadata": {},
   "outputs": [
    {
     "name": "stdout",
     "output_type": "stream",
     "text": [
      "<class 'pandas.core.frame.DataFrame'>\n",
      "RangeIndex: 953 entries, 0 to 952\n",
      "Data columns (total 9 columns):\n",
      " #   Column    Non-Null Count  Dtype \n",
      "---  ------    --------------  ----- \n",
      " 0   name      953 non-null    object\n",
      " 1   type      953 non-null    object\n",
      " 2   address   943 non-null    object\n",
      " 3   website   946 non-null    object\n",
      " 4   phone     946 non-null    object\n",
      " 5   about_us  946 non-null    object\n",
      " 6   Twitter   565 non-null    object\n",
      " 7   LinkedIn  467 non-null    object\n",
      " 8   Facebook  498 non-null    object\n",
      "dtypes: object(9)\n",
      "memory usage: 67.1+ KB\n"
     ]
    }
   ],
   "source": [
    "profile_df.info()"
   ]
  },
  {
   "cell_type": "markdown",
   "metadata": {},
   "source": [
    "**Save dataframe into a csv file**"
   ]
  },
  {
   "cell_type": "code",
   "execution_count": 17,
   "metadata": {},
   "outputs": [],
   "source": [
    "profile_df.to_csv('xero_profiles.csv', index = False)"
   ]
  },
  {
   "cell_type": "markdown",
   "metadata": {},
   "source": [
    "---\n",
    "\n",
    "<br>\n",
    "\n",
    "## <font color = '#e8b72e'><center> Awesome!! Did it :D  </font>\n",
    "\n",
    "![](https://media.giphy.com/media/vFKqnCdLPNOKc/giphy.gif)"
   ]
  }
 ],
 "metadata": {
  "kernelspec": {
   "display_name": "Python 3",
   "language": "python",
   "name": "python3"
  },
  "language_info": {
   "codemirror_mode": {
    "name": "ipython",
    "version": 3
   },
   "file_extension": ".py",
   "mimetype": "text/x-python",
   "name": "python",
   "nbconvert_exporter": "python",
   "pygments_lexer": "ipython3",
   "version": "3.7.4"
  }
 },
 "nbformat": 4,
 "nbformat_minor": 2
}
